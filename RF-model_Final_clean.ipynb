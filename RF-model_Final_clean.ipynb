{
 "cells": [
  {
   "cell_type": "code",
   "execution_count": 1,
   "metadata": {},
   "outputs": [],
   "source": [
    "import pandas as pd\n",
    "import pandas as pd\n",
    "Feld_neg_AA=pd.read_csv('Feld_neg.csv').iloc[:,1:]\n",
    "Feld_neg_cheflag=pd.read_csv('Feld_Fv_neg_cheflag.csv').iloc[:,1:]\n",
    "NN=pd.read_csv('Neg_Feld_Y.csv').iloc[:,1:]\n",
    "\n",
    "\n",
    "Feld_pos_AA=pd.read_csv('Feld_pos.csv').iloc[:,1:]\n",
    "Feld_pos_cheflag=pd.read_csv('Feld_Fv_pos_cheflag.csv').iloc[:,1:]\n",
    "PP=pd.read_csv('Pos_Feld_Y.csv').iloc[:,1:]\n",
    "\n",
    "\n",
    "\n",
    "cli_train_AA=pd.read_csv('Cli_train.csv').iloc[:,1:]\n",
    "\n",
    "cli_train_cheflag=pd.read_csv('Clinical_train_cheflag.csv').iloc[:,1:]\n",
    "Train=pd.read_csv('cli_train_Y.csv').iloc[:,1:]\n",
    "\n",
    "\n",
    "cli_test_AA=pd.read_csv('Cli_test.csv').iloc[:,1:]\n",
    "cli_test_cheflag=pd.read_csv('Clinical_test_cheflag.csv').iloc[:,1:]\n",
    "Test=pd.read_csv('cli_test_Y.csv').iloc[:,1:]\n",
    "\n",
    "\n"
   ]
  },
  {
   "cell_type": "code",
   "execution_count": 2,
   "metadata": {},
   "outputs": [],
   "source": [
    "CColumn=['NDE_Fv',\n",
    "'QDE_Fv',\n",
    "'NQDE_Fv',\n",
    "'IW_VH',\n",
    "'RK_Fv',\n",
    "'W_VH',\n",
    "'D_Fv',\n",
    "'W_Fv',\n",
    "'G_Fv',\n",
    "'G_VH',\n",
    "'WRK_Fv',\n",
    "'WRK_VH',\n",
    "'IWR_Fv',\n",
    "'WYRK_Fv',\n",
    "'WYRK_VH',\n",
    "'PYRK_Fv',\n",
    "'IWRK_VH',\n",
    "'PWRK_VH',\n",
    "'PWRK_Fv',\n",
    "'WRHK_Fv',\n",
    "'IWRK_Fv',\n",
    "'IYRK_Fv',\n",
    "'FWRK_Fv',\n",
    "'IPWR_Fv','Fv_charge','VH_charge']"
   ]
  },
  {
   "cell_type": "code",
   "execution_count": 3,
   "metadata": {},
   "outputs": [],
   "source": [
    "Feld_neg_AA=Feld_neg_AA[CColumn]\n",
    "Feld_pos_AA=Feld_pos_AA[CColumn]\n",
    "cli_train_AA=cli_train_AA[CColumn]\n",
    "cli_test_AA=cli_test_AA[CColumn]"
   ]
  },
  {
   "cell_type": "code",
   "execution_count": 4,
   "metadata": {},
   "outputs": [],
   "source": [
    "YYColumn=['FIPWY_Fv','IPWY_VH','IWY_VH','IPWY_Fv','IPVWY_VH']"
   ]
  },
  {
   "cell_type": "code",
   "execution_count": 5,
   "metadata": {},
   "outputs": [],
   "source": [
    "Feld_neg_Y=NN[YYColumn]\n",
    "Feld_pos_Y=PP[YYColumn]\n",
    "cli_train_Y=Train[YYColumn]\n",
    "cli_test_Y=Test[YYColumn]"
   ]
  },
  {
   "cell_type": "code",
   "execution_count": 6,
   "metadata": {},
   "outputs": [],
   "source": [
    "import random\n",
    "Feld_neg=pd.concat([Feld_neg_AA,Feld_neg_Y,Feld_neg_cheflag],axis=1,sort=False)\n",
    "Feld_pos=pd.concat([Feld_pos_AA,Feld_pos_Y,Feld_pos_cheflag],axis=1,sort=False)\n",
    "\n",
    "cli_train=pd.concat([cli_train_AA,cli_train_Y,cli_train_cheflag],axis=1,sort=False)\n",
    "cli_test=pd.concat([cli_test_AA,cli_test_Y,cli_test_cheflag],axis=1,sort=False)\n",
    "\n",
    "cli=pd.concat([cli_train,cli_test],axis=0,sort=False).reset_index().iloc[:,1:]\n",
    "Feld_all=pd.concat([Feld_neg,Feld_pos],axis=0,sort=False).reset_index().iloc[:,1:]\n",
    "Type=[0]*len(Feld_neg)+[1]*len(Feld_pos)"
   ]
  },
  {
   "cell_type": "code",
   "execution_count": 7,
   "metadata": {},
   "outputs": [],
   "source": [
    "Binding_train=pd.read_excel('Binding_data.xlsx',sheet_name='clinical_train')\n",
    "Binding_test=pd.read_excel('Binding_data.xlsx',sheet_name='clinical_test')\n",
    "Binding_PSR=pd.concat([Binding_train.iloc[:,-1],Binding_test.iloc[:,-4]],axis=0,sort=False).reset_index().iloc[:,1:]"
   ]
  },
  {
   "cell_type": "code",
   "execution_count": 8,
   "metadata": {},
   "outputs": [],
   "source": [
    "features=pd.concat([Feld_all,cli],axis=0,sort=False).reset_index().iloc[:,1:].fillna(0)"
   ]
  },
  {
   "cell_type": "code",
   "execution_count": 9,
   "metadata": {},
   "outputs": [],
   "source": [
    "from sklearn.preprocessing import StandardScaler\n",
    "from sklearn import preprocessing\n",
    "min_max_scaler = preprocessing.MinMaxScaler()\n",
    "features_norm = min_max_scaler.fit_transform(features)\n",
    "\n",
    "fst_BI1=pd.DataFrame(features_norm).iloc[:-(123),:]\n",
    "fst_cli1=pd.DataFrame(features_norm).iloc[-(123):,:].reset_index().iloc[:,1:]\n",
    "\n",
    "fst_BI1.columns=features.columns\n",
    "fst_cli1.columns=features.columns"
   ]
  },
  {
   "cell_type": "code",
   "execution_count": 10,
   "metadata": {},
   "outputs": [],
   "source": [
    "# Import necessary modules\n",
    "import numpy as np\n",
    "import pandas as pd\n",
    "\n",
    "from sklearn.model_selection import train_test_split\n",
    "from sklearn.metrics import accuracy_score\n",
    "from sklearn.metrics import balanced_accuracy_score\n",
    "\n",
    "from sklearn.discriminant_analysis import LinearDiscriminantAnalysis\n",
    "from sklearn.discriminant_analysis import QuadraticDiscriminantAnalysis\n",
    "from sklearn.linear_model import LogisticRegression\n",
    "\n",
    "\n",
    "X_train1, X_test1, y_train1, y_test1 = train_test_split(fst_BI1, Type,test_size=0.2,random_state=42,stratify=Type)\n"
   ]
  },
  {
   "cell_type": "code",
   "execution_count": 11,
   "metadata": {},
   "outputs": [
    {
     "name": "stdout",
     "output_type": "stream",
     "text": [
      "0\n",
      "0.7510834236186349\n",
      "0.9765877970299542\n"
     ]
    }
   ],
   "source": [
    "## check the intermidiate RF model performance\n",
    "\n",
    "\n",
    "# Import necessary modules\n",
    "import numpy as np\n",
    "import pandas as pd\n",
    "\n",
    "from sklearn.model_selection import train_test_split\n",
    "from sklearn.metrics import accuracy_score\n",
    "from sklearn.metrics import balanced_accuracy_score\n",
    "from sklearn.linear_model import LogisticRegression\n",
    "from sklearn.ensemble import RandomForestRegressor\n",
    "from sklearn.ensemble import RandomForestClassifier\n",
    "from sklearn.model_selection import cross_val_score\n",
    "from sklearn.metrics import roc_auc_score\n",
    "from sklearn.metrics import roc_curve\n",
    "\n",
    "n_estimator=[5]\n",
    "max_depth=[20]\n",
    "min_samples_split=[20]\n",
    "para=[]\n",
    "result_perf=[]\n",
    "result_cross=[]\n",
    "bootstrap=[True,False]\n",
    "for i in range(0,len(n_estimator)):\n",
    "    print(i)\n",
    "    for j in range(0,len(max_depth)):\n",
    "        for z in range(0,len(min_samples_split)):\n",
    "            for ii in range(0,1):\n",
    "                regc = RandomForestClassifier(n_estimators=n_estimator[i],max_depth=max_depth[j], min_samples_split=min_samples_split[z],min_samples_leaf=1,bootstrap=bootstrap[ii],random_state=0)\n",
    "\n",
    "                regc.fit(X_train1, y_train1)\n",
    "\n",
    "                scores = cross_val_score(regc, X_train1, y_train1, cv=10,scoring='f1_macro')\n",
    "                cross_vali_mean=scores.mean()\n",
    "                cross_vali_all=scores\n",
    "\n",
    "                y_pred_test=regc.predict(X_test1)\n",
    "                y_pred_train=regc.predict(X_train1)\n",
    "\n",
    "                y_pred_all_clinical=regc.predict(fst_cli1)\n",
    "\n",
    "                rf_test=balanced_accuracy_score(y_test1, y_pred_test)\n",
    "                rf_train=accuracy_score(y_train1, y_pred_train)\n",
    "                logit_roc_auc = roc_auc_score(y_pred_all_clinical,Binding_PSR)\n",
    "                print(logit_roc_auc)\n",
    "                print(rf_train)\n",
    "                para.append([n_estimator[i],max_depth[j],min_samples_split[z]])\n",
    "                result_perf.append([rf_test,rf_train,logit_roc_auc])\n",
    "                result_cross.append([cross_vali_mean,cross_vali_all[0],cross_vali_all[1],cross_vali_all[2],cross_vali_all[3],cross_vali_all[4],cross_vali_all[5],cross_vali_all[6],cross_vali_all[7],cross_vali_all[8],cross_vali_all[9]])\n"
   ]
  },
  {
   "cell_type": "code",
   "execution_count": 12,
   "metadata": {},
   "outputs": [],
   "source": [
    "df_para=pd.DataFrame(para)\n",
    "df_perf=pd.DataFrame(result_perf)\n",
    "df_perf.columns=['acc_test','acc_train','auc_cli']\n",
    "df_cross=pd.DataFrame(result_cross)\n",
    "df=pd.concat([df_para,df_perf,df_cross],axis=1,sort=False)"
   ]
  },
  {
   "cell_type": "code",
   "execution_count": 13,
   "metadata": {},
   "outputs": [
    {
     "data": {
      "text/html": [
       "<div>\n",
       "<style scoped>\n",
       "    .dataframe tbody tr th:only-of-type {\n",
       "        vertical-align: middle;\n",
       "    }\n",
       "\n",
       "    .dataframe tbody tr th {\n",
       "        vertical-align: top;\n",
       "    }\n",
       "\n",
       "    .dataframe thead th {\n",
       "        text-align: right;\n",
       "    }\n",
       "</style>\n",
       "<table border=\"1\" class=\"dataframe\">\n",
       "  <thead>\n",
       "    <tr style=\"text-align: right;\">\n",
       "      <th></th>\n",
       "      <th>0</th>\n",
       "      <th>1</th>\n",
       "      <th>2</th>\n",
       "      <th>acc_test</th>\n",
       "      <th>acc_train</th>\n",
       "      <th>auc_cli</th>\n",
       "      <th>0</th>\n",
       "      <th>1</th>\n",
       "      <th>2</th>\n",
       "      <th>3</th>\n",
       "      <th>4</th>\n",
       "      <th>5</th>\n",
       "      <th>6</th>\n",
       "      <th>7</th>\n",
       "      <th>8</th>\n",
       "      <th>9</th>\n",
       "      <th>10</th>\n",
       "    </tr>\n",
       "  </thead>\n",
       "  <tbody>\n",
       "    <tr>\n",
       "      <th>0</th>\n",
       "      <td>5</td>\n",
       "      <td>20</td>\n",
       "      <td>20</td>\n",
       "      <td>0.952204</td>\n",
       "      <td>0.976588</td>\n",
       "      <td>0.751083</td>\n",
       "      <td>0.951127</td>\n",
       "      <td>0.953217</td>\n",
       "      <td>0.954126</td>\n",
       "      <td>0.949757</td>\n",
       "      <td>0.951684</td>\n",
       "      <td>0.953974</td>\n",
       "      <td>0.948308</td>\n",
       "      <td>0.94877</td>\n",
       "      <td>0.94847</td>\n",
       "      <td>0.951734</td>\n",
       "      <td>0.951235</td>\n",
       "    </tr>\n",
       "  </tbody>\n",
       "</table>\n",
       "</div>"
      ],
      "text/plain": [
       "   0   1   2  acc_test  acc_train   auc_cli         0         1         2  \\\n",
       "0  5  20  20  0.952204   0.976588  0.751083  0.951127  0.953217  0.954126   \n",
       "\n",
       "          3         4         5         6        7        8         9  \\\n",
       "0  0.949757  0.951684  0.953974  0.948308  0.94877  0.94847  0.951734   \n",
       "\n",
       "         10  \n",
       "0  0.951235  "
      ]
     },
     "execution_count": 13,
     "metadata": {},
     "output_type": "execute_result"
    }
   ],
   "source": [
    "df[df.iloc[:,6]>0.9].sort_values('auc_cli',ascending=False)"
   ]
  },
  {
   "cell_type": "code",
   "execution_count": 15,
   "metadata": {},
   "outputs": [],
   "source": [
    "# random forest for feature importance on a classification problem\n",
    "from sklearn.datasets import make_classification\n",
    "from sklearn.ensemble import RandomForestClassifier\n",
    "from matplotlib import pyplot\n",
    "# define the model\n",
    "model = RandomForestClassifier(n_estimators=5,max_depth=20, min_samples_split=20,min_samples_leaf=1,random_state=0)\n",
    "# fit the model\n",
    "model.fit(X_train1, y_train1)\n",
    "# get importance\n",
    "importance = model.feature_importances_"
   ]
  },
  {
   "cell_type": "code",
   "execution_count": 16,
   "metadata": {},
   "outputs": [],
   "source": [
    "df_feature=pd.DataFrame({'feature':list(X_train1.columns),'import':list(importance)})\n",
    "feature_top10=list(df_feature.sort_values(by='import',axis=0,ascending=False).head(8)['feature'])\n",
    "feature_cheflag=['X1','X2','X3','X4','X5','X6','X7','X8','X9','X11','X12']\n",
    "feature_top10=['Fv_charge','WYRK_VH','VH_charge','IYRK_Fv','FWRK_Fv','NDE_Fv','IPWY_VH']\n",
    "fst_BI2=fst_BI1[feature_top10+feature_cheflag]\n",
    "fst_cli2=fst_cli1[feature_top10+feature_cheflag]"
   ]
  },
  {
   "cell_type": "code",
   "execution_count": 17,
   "metadata": {},
   "outputs": [],
   "source": [
    "# Import necessary modules\n",
    "import numpy as np\n",
    "import pandas as pd\n",
    "\n",
    "from sklearn.model_selection import train_test_split\n",
    "from sklearn.metrics import accuracy_score\n",
    "from sklearn.metrics import balanced_accuracy_score\n",
    "\n",
    "from sklearn.discriminant_analysis import LinearDiscriminantAnalysis\n",
    "from sklearn.discriminant_analysis import QuadraticDiscriminantAnalysis\n",
    "from sklearn.linear_model import LogisticRegression\n",
    "\n",
    "# Load data and split in train and test sets\n",
    "X_train2, X_test2, y_train2, y_test2 = train_test_split(fst_BI2, Type,test_size=0.2,random_state=42,stratify=Type)"
   ]
  },
  {
   "cell_type": "code",
   "execution_count": 18,
   "metadata": {},
   "outputs": [
    {
     "name": "stdout",
     "output_type": "stream",
     "text": [
      "[0.8193391115926326, 0.7978682170542636, 0.9595959595959596, 0.9486752580960026, 0.9580084793176753]\n"
     ]
    }
   ],
   "source": [
    "regc = RandomForestClassifier(n_estimators=15,max_depth=15,min_samples_split=100,min_samples_leaf=1,bootstrap=True,random_state=0)\n",
    "\n",
    "regc.fit(X_train2, y_train2)\n",
    "\n",
    "\n",
    "y_pred_test=regc.predict(X_test2)\n",
    "y_pred_train=regc.predict(X_train2)\n",
    "y_pred_all_clinical=regc.predict(fst_cli2)\n",
    "rf_test=balanced_accuracy_score(y_test2, y_pred_test)\n",
    "rf_train=balanced_accuracy_score(y_train2, y_pred_train)\n",
    "logit_roc_auc = roc_auc_score(y_pred_all_clinical,Binding_PSR)\n",
    "                \n",
    "logit_roc_auc1 = roc_auc_score(y_pred_all_clinical[:103],Binding_PSR[:103])\n",
    "logit_roc_auc2 = roc_auc_score(y_pred_all_clinical[103:],Binding_PSR[103:])\n",
    "print([logit_roc_auc,logit_roc_auc1,logit_roc_auc2,rf_test,rf_train])\n",
    "result_perf=[]\n",
    "result_perf.append([logit_roc_auc,logit_roc_auc1,logit_roc_auc2,rf_train,rf_test])"
   ]
  },
  {
   "cell_type": "code",
   "execution_count": 19,
   "metadata": {},
   "outputs": [
    {
     "data": {
      "text/html": [
       "<div>\n",
       "<style scoped>\n",
       "    .dataframe tbody tr th:only-of-type {\n",
       "        vertical-align: middle;\n",
       "    }\n",
       "\n",
       "    .dataframe tbody tr th {\n",
       "        vertical-align: top;\n",
       "    }\n",
       "\n",
       "    .dataframe thead th {\n",
       "        text-align: right;\n",
       "    }\n",
       "</style>\n",
       "<table border=\"1\" class=\"dataframe\">\n",
       "  <thead>\n",
       "    <tr style=\"text-align: right;\">\n",
       "      <th></th>\n",
       "      <th>auc_cli_all</th>\n",
       "      <th>auc_cli_train</th>\n",
       "      <th>auc_cli_test</th>\n",
       "      <th>acc_train</th>\n",
       "      <th>acc_test</th>\n",
       "    </tr>\n",
       "  </thead>\n",
       "  <tbody>\n",
       "    <tr>\n",
       "      <th>0</th>\n",
       "      <td>0.819339</td>\n",
       "      <td>0.797868</td>\n",
       "      <td>0.959596</td>\n",
       "      <td>0.958008</td>\n",
       "      <td>0.948675</td>\n",
       "    </tr>\n",
       "  </tbody>\n",
       "</table>\n",
       "</div>"
      ],
      "text/plain": [
       "   auc_cli_all  auc_cli_train  auc_cli_test  acc_train  acc_test\n",
       "0     0.819339       0.797868      0.959596   0.958008  0.948675"
      ]
     },
     "execution_count": 19,
     "metadata": {},
     "output_type": "execute_result"
    }
   ],
   "source": [
    "df_perf=pd.DataFrame(result_perf)\n",
    "df_perf.columns=['auc_cli_all','auc_cli_train','auc_cli_test','acc_train','acc_test',]\n",
    "df_perf"
   ]
  },
  {
   "cell_type": "code",
   "execution_count": null,
   "metadata": {},
   "outputs": [],
   "source": []
  }
 ],
 "metadata": {
  "kernelspec": {
   "display_name": "Python 3 (ipykernel)",
   "language": "python",
   "name": "python3"
  },
  "language_info": {
   "codemirror_mode": {
    "name": "ipython",
    "version": 3
   },
   "file_extension": ".py",
   "mimetype": "text/x-python",
   "name": "python",
   "nbconvert_exporter": "python",
   "pygments_lexer": "ipython3",
   "version": "3.10.8"
  }
 },
 "nbformat": 4,
 "nbformat_minor": 2
}
